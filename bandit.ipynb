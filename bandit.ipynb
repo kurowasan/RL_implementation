{
 "cells": [
  {
   "cell_type": "code",
   "execution_count": 1,
   "metadata": {
    "collapsed": false
   },
   "outputs": [
    {
     "name": "stderr",
     "output_type": "stream",
     "text": [
      "C:\\Users\\kurowasan\\Anaconda3\\lib\\site-packages\\pandas\\computation\\__init__.py:19: UserWarning: The installed version of numexpr 2.4.4 is not supported in pandas and will be not be used\n",
      "\n",
      "  UserWarning)\n"
     ]
    }
   ],
   "source": [
    "import numpy as np\n",
    "import numpy.random as rand\n",
    "import pandas as pd\n",
    "\n",
    "%matplotlib inline\n",
    "import plotly.plotly as py\n",
    "import plotly.graph_objs as go\n",
    "from plotly.tools import FigureFactory as FF"
   ]
  },
  {
   "cell_type": "markdown",
   "metadata": {},
   "source": [
    "# Simple Bandit algorithm"
   ]
  },
  {
   "cell_type": "markdown",
   "metadata": {},
   "source": [
    "This is a simple implementation of the k-Armed Bandit Problem form Sutton's book.  "
   ]
  },
  {
   "cell_type": "code",
   "execution_count": 2,
   "metadata": {
    "collapsed": false
   },
   "outputs": [],
   "source": [
    "# initialization of the k bandits\n",
    "k = 10\n",
    "eps = 0.1\n",
    "nb_steps = 1000\n",
    "nb_iteration = 1000"
   ]
  },
  {
   "cell_type": "markdown",
   "metadata": {},
   "source": [
    "Here we have 10 bandit to choose from, with their means following a Normal(0,1) and having a variance of 1.  \n",
    "Below is an example of the bandit's reward distribution"
   ]
  },
  {
   "cell_type": "code",
   "execution_count": 82,
   "metadata": {
    "collapsed": false
   },
   "outputs": [
    {
     "data": {
      "text/html": [
       "<iframe id=\"igraph\" scrolling=\"no\" style=\"border:none;\" seamless=\"seamless\" src=\"https://plot.ly/~kurowasan/949.embed\" height=\"525px\" width=\"100%\"></iframe>"
      ],
      "text/plain": [
       "<plotly.tools.PlotlyDisplay object>"
      ]
     },
     "execution_count": 82,
     "metadata": {},
     "output_type": "execute_result"
    }
   ],
   "source": [
    "bandit_mean = rand.normal(0,1, size=(k))\n",
    "bandit_var = np.ones(k)\n",
    "data = []\n",
    "for i in range(k):\n",
    "    data.append(go.Box(y=rand.normal(bandit_mean[i], bandit_var[i], size= (100)), boxmean=True, name=str(i+1)))\n",
    "\n",
    "layout = go.Layout(\n",
    "    title='Reward distribution for the k bandits',\n",
    "    yaxis=dict(\n",
    "        title='Reward',\n",
    "        titlefont=dict(family='Courier New, monospace',size=18,color='#7f7f7f')\n",
    "    ),\n",
    "    showlegend=False\n",
    ")\n",
    "fig = go.Figure(data=data, layout=layout)\n",
    "py.iplot(fig, filename='bandit_reward_distribution')"
   ]
  },
  {
   "cell_type": "code",
   "execution_count": 34,
   "metadata": {
    "collapsed": true
   },
   "outputs": [],
   "source": [
    "class Bandit:\n",
    "    def __init__(self, t_max, k, epsilon, ucb, bandit_mean=[], bandit_var=[]):\n",
    "        self.bandit_mean = bandit_mean\n",
    "        self.bandit_var = bandit_var\n",
    "        self.actions = np.arange(k)\n",
    "        self.q = np.zeros(k)\n",
    "        self.n = np.zeros(k)\n",
    "        self.e = epsilon\n",
    "        self.k = k\n",
    "        self.ucb = ucb\n",
    "        \n",
    "    def reset(self):\n",
    "        self.q = np.zeros(k)\n",
    "        self.n = np.zeros(k)\n",
    "        \n",
    "    def play(self):\n",
    "        if(rand.rand() < self.e):         # choose randomly a bandit\n",
    "            a = rand.choice(self.actions)\n",
    "        else:                          # select the bandit with the highest estimate\n",
    "            if(self.ucb):\n",
    "                a = np.argmax(self.q + 2*np.sqrt(np.log(np.sum(self.n))/self.n))\n",
    "            else:\n",
    "                a = np.argmax(self.q)\n",
    "        \n",
    "        r = rand.normal(self.bandit_mean[a], self.bandit_var[a])  # generate the reward from the chosen bandit\n",
    "        self.n[a] += 1\n",
    "        self.q[a] += (r - self.q[a])/self.n[a]   # update the estimate for the chosen bandit\n",
    "\n",
    "        return r"
   ]
  },
  {
   "cell_type": "code",
   "execution_count": 35,
   "metadata": {
    "collapsed": false
   },
   "outputs": [],
   "source": [
    "strategies = {'optimist':Bandit(nb_steps,k,0.1,False), 'curious':Bandit(nb_steps,k,0.1,False),\n",
    "            'greedy':Bandit(nb_steps,k,0,False), 'scientist':Bandit(nb_steps,k,0,True)}\n",
    "rewards = {}\n",
    "for key, value in strategies.items():\n",
    "    rewards[key] = np.zeros(nb_steps)\n",
    "    \n",
    "for i in range(nb_iteration):\n",
    "    strategies['optimist'].q += 5\n",
    "    for key, strategie in strategies.items():    # create new bandits distribution\n",
    "        strategie.bandit_mean = rand.normal(0,1, size=(k))\n",
    "        strategie.bandit_var = np.ones(k) \n",
    "        strategie.reset()\n",
    "    \n",
    "    for t in range(nb_steps):   # iterate nb_steps time the bandit algorithm and the store the mean reward\n",
    "        for key, strategie in strategies.items():\n",
    "            rewards[key][t] += strategie.play()\n",
    "\n",
    "for key, value in rewards.items():\n",
    "    rewards[key] /= nb_iteration"
   ]
  },
  {
   "cell_type": "code",
   "execution_count": 37,
   "metadata": {
    "collapsed": false
   },
   "outputs": [
    {
     "data": {
      "text/html": [
       "<iframe id=\"igraph\" scrolling=\"no\" style=\"border:none;\" seamless=\"seamless\" src=\"https://plot.ly/~kurowasan/957.embed\" height=\"525px\" width=\"100%\"></iframe>"
      ],
      "text/plain": [
       "<plotly.tools.PlotlyDisplay object>"
      ]
     },
     "execution_count": 37,
     "metadata": {},
     "output_type": "execute_result"
    }
   ],
   "source": [
    "data = []\n",
    "for key, value in rewards.items():\n",
    "    data.append(go.Scatter(y=value, name=key))\n",
    "\n",
    "py.iplot(data, filename='reward_by_strategies')"
   ]
  }
 ],
 "metadata": {
  "kernelspec": {
   "display_name": "Python 3",
   "language": "python",
   "name": "python3"
  },
  "language_info": {
   "codemirror_mode": {
    "name": "ipython",
    "version": 3
   },
   "file_extension": ".py",
   "mimetype": "text/x-python",
   "name": "python",
   "nbconvert_exporter": "python",
   "pygments_lexer": "ipython3",
   "version": "3.4.3"
  }
 },
 "nbformat": 4,
 "nbformat_minor": 0
}
